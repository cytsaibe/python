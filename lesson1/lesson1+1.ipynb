{
 "cells": [
  {
   "cell_type": "markdown",
   "id": "f5a1f6aa",
   "metadata": {},
   "source": [
    "check whether able to upload code from google drive"
   ]
  }
 ],
 "metadata": {
  "language_info": {
   "name": "python"
  }
 },
 "nbformat": 4,
 "nbformat_minor": 5
}
