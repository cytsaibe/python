{
 "cells": [
  {
   "cell_type": "code",
   "execution_count": null,
   "id": "ba47c557",
   "metadata": {},
   "outputs": [],
   "source": []
  },
  {
   "cell_type": "code",
   "execution_count": 2,
   "id": "62fa2079",
   "metadata": {},
   "outputs": [
    {
     "name": "stdout",
     "output_type": "stream",
     "text": [
      "width is:45,:height is :90,:area is:4050\n",
      "77777\n"
     ]
    }
   ],
   "source": [
    "width=45\n",
    "height=90\n",
    "area= width*height\n",
    "\n",
    "print(f\"width is:{width},:height is :{height},:area is:{area}\")\n",
    "print(\"77777\")"
   ]
  }
 ],
 "metadata": {
  "kernelspec": {
   "display_name": "Python 3 (ipykernel)",
   "language": "python",
   "name": "python3"
  },
  "language_info": {
   "codemirror_mode": {
    "name": "ipython",
    "version": 3
   },
   "file_extension": ".py",
   "mimetype": "text/x-python",
   "name": "python",
   "nbconvert_exporter": "python",
   "pygments_lexer": "ipython3",
   "version": "3.12.1"
  }
 },
 "nbformat": 4,
 "nbformat_minor": 5
}
