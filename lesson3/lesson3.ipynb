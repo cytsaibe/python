{
 "cells": [
  {
   "cell_type": "markdown",
   "id": "10dfc6ec",
   "metadata": {},
   "source": [
    "## 這是第三節課內容"
   ]
  },
  {
   "cell_type": "code",
   "execution_count": null,
   "id": "26a98231",
   "metadata": {},
   "outputs": [
    {
     "name": "stdout",
     "output_type": "stream",
     "text": [
      "矩形的寬:345.8 高:100.2 面積是:34649.16\n"
     ]
    }
   ],
   "source": [
    "width = 345.8\n",
    "height = 100.2\n",
    "area = width*height\n",
    "type(width)\n",
    "type(height)\n",
    "type(area)\n",
    "print(f\"矩形的寬:{width} 高:{height} 面積是:{round(area,ndigits=2)}\")"
   ]
  },
  {
   "cell_type": "markdown",
   "id": "730820e4",
   "metadata": {},
   "source": [
    "### 重點是input()"
   ]
  },
  {
   "cell_type": "code",
   "execution_count": 23,
   "id": "79bd25cc",
   "metadata": {},
   "outputs": [
    {
     "data": {
      "text/plain": [
       "float"
      ]
     },
     "execution_count": 23,
     "metadata": {},
     "output_type": "execute_result"
    }
   ],
   "source": [
    "width_input = input(\"請輸入矩形的寬:\")\n",
    "type(width_input)\n",
    "width_value = float(width_input)\n",
    "type(width_value)"
   ]
  },
  {
   "cell_type": "code",
   "execution_count": 25,
   "id": "835487ae",
   "metadata": {},
   "outputs": [
    {
     "name": "stdout",
     "output_type": "stream",
     "text": [
      "矩形的寬:1111.0 高:25.0 面積是:27775.0\n"
     ]
    }
   ],
   "source": [
    "width = float(input(\"請輸入矩形的寬:\"))\n",
    "height = float(input(\"請輸入矩形的高:\"))\n",
    "area = width*height\n",
    "print(f\"矩形的寬:{width} 高:{height} 面積是:{round(area,ndigits=2)}\")\n"
   ]
  }
 ],
 "metadata": {
  "kernelspec": {
   "display_name": "base",
   "language": "python",
   "name": "python3"
  },
  "language_info": {
   "codemirror_mode": {
    "name": "ipython",
    "version": 3
   },
   "file_extension": ".py",
   "mimetype": "text/x-python",
   "name": "python",
   "nbconvert_exporter": "python",
   "pygments_lexer": "ipython3",
   "version": "3.12.7"
  }
 },
 "nbformat": 4,
 "nbformat_minor": 5
}
