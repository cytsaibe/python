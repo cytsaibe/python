{
 "cells": [
  {
   "cell_type": "markdown",
   "id": "ef222ad4",
   "metadata": {},
   "source": [
    "## 複合整定運算子"
   ]
  },
  {
   "cell_type": "code",
   "execution_count": null,
   "id": "0af01856",
   "metadata": {
    "vscode": {
     "languageId": "plaintext"
    }
   },
   "outputs": [],
   "source": []
  }
 ],
 "metadata": {
  "language_info": {
   "name": "python"
  }
 },
 "nbformat": 4,
 "nbformat_minor": 5
}
