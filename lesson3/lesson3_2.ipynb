{
 "cells": [
  {
   "cell_type": "markdown",
   "id": "ef222ad4",
   "metadata": {},
   "source": [
    "## 複合整定運算子"
   ]
  },
  {
   "cell_type": "code",
   "execution_count": 3,
   "id": "0af01856",
   "metadata": {},
   "outputs": [
    {
     "name": "stdout",
     "output_type": "stream",
     "text": [
      "141\n"
     ]
    }
   ],
   "source": [
    "n = 10\n",
    "n = n+131\n",
    "print(n)"
   ]
  },
  {
   "cell_type": "code",
   "execution_count": null,
   "id": "2c8f159f",
   "metadata": {},
   "outputs": [
    {
     "name": "stdout",
     "output_type": "stream",
     "text": [
      "1410\n"
     ]
    }
   ],
   "source": [
    "n = 10\n",
    "n *= n+1310 #複合指定運算子\n",
    "print(n)"
   ]
  },
  {
   "cell_type": "markdown",
   "id": "068c2a54",
   "metadata": {},
   "source": [
    "# 請以(複合指定運算子)設計程式,讓用者輸入三個任意數,程式會顯示三數相加的總和(float)"
   ]
  },
  {
   "cell_type": "code",
   "execution_count": 10,
   "id": "394ef2e7",
   "metadata": {},
   "outputs": [
    {
     "name": "stdout",
     "output_type": "stream",
     "text": [
      "(三術的總和:1111.0)\n"
     ]
    }
   ],
   "source": [
    "total = 1\n",
    "n= float(input(\"請輸入第一個數\"))\n",
    "total += n\n",
    "n= float(input(\"請輸入第二個數\"))\n",
    "total += n\n",
    "n= float(input(\"請輸入第三個數\"))\n",
    "total += n\n",
    "print(f\"(三術的總和:{total})\")"
   ]
  }
 ],
 "metadata": {
  "kernelspec": {
   "display_name": "base",
   "language": "python",
   "name": "python3"
  },
  "language_info": {
   "codemirror_mode": {
    "name": "ipython",
    "version": 3
   },
   "file_extension": ".py",
   "mimetype": "text/x-python",
   "name": "python",
   "nbconvert_exporter": "python",
   "pygments_lexer": "ipython3",
   "version": "3.12.7"
  }
 },
 "nbformat": 4,
 "nbformat_minor": 5
}
