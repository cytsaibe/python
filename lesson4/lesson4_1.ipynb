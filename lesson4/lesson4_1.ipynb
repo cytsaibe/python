{
 "cells": [
  {
   "cell_type": "markdown",
   "id": "a2213411",
   "metadata": {},
   "source": [
    "## 計算三角形的角度"
   ]
  },
  {
   "cell_type": "code",
   "execution_count": 13,
   "id": "843a12d6",
   "metadata": {},
   "outputs": [
    {
     "name": "stdout",
     "output_type": "stream",
     "text": [
      "對邊: 1.0\n",
      "斜邊: 2.0\n",
      "徑度: 0.5235987755982989\n",
      "角度: 30.0\n"
     ]
    }
   ],
   "source": [
    "import math\n",
    "side = float(input(\"請輸入對邊\"))\n",
    "another_side = float(input(\"請輸入斜邊\"))\n",
    "radians = math.asin(side / another_side)\n",
    "degree= math. degrees(radians)\n",
    "print(\"對邊:\", side)\n",
    "print(\"斜邊:\", another_side)\n",
    "print(\"徑度:\", radians) \n",
    "print(\"角度:\", round(degree,2) )"
   ]
  },
  {
   "cell_type": "markdown",
   "id": "066602a4",
   "metadata": {},
   "source": [
    "### tuple"
   ]
  },
  {
   "cell_type": "code",
   "execution_count": 2,
   "id": "a02bc2f5",
   "metadata": {},
   "outputs": [
    {
     "data": {
      "text/plain": [
       "(306, 78, 87)"
      ]
     },
     "execution_count": 2,
     "metadata": {},
     "output_type": "execute_result"
    }
   ],
   "source": [
    "306, 78, 87"
   ]
  },
  {
   "cell_type": "markdown",
   "id": "8e39bc35",
   "metadata": {},
   "source": [
    "### 大學統計,標準差"
   ]
  },
  {
   "cell_type": "code",
   "execution_count": 10,
   "id": "03e2212d",
   "metadata": {},
   "outputs": [
    {
     "name": "stdout",
     "output_type": "stream",
     "text": [
      "28.0 30.0 32.0\n",
      "平均:30.00 標準差:2.00)\n"
     ]
    }
   ],
   "source": [
    "import statistics\n",
    "n1 = float(input(\"請輸入第一個數字\"))\n",
    "n2 = float(input(\"請輸入第二個數字\"))\n",
    "n3 = float(input(\"請輸入第三個數字\"))\n",
    "average = statistics.mean((n1,n2,n3))\n",
    "std = statistics.stdev ((n1,n2,n3))\n",
    "print(n1,n2,n3)\n",
    "print(f\"平均:{average:.2f}\", f\"標準差:{std:.2f})\")"
   ]
  }
 ],
 "metadata": {
  "kernelspec": {
   "display_name": "base",
   "language": "python",
   "name": "python3"
  },
  "language_info": {
   "codemirror_mode": {
    "name": "ipython",
    "version": 3
   },
   "file_extension": ".py",
   "mimetype": "text/x-python",
   "name": "python",
   "nbconvert_exporter": "python",
   "pygments_lexer": "ipython3",
   "version": "3.12.7"
  }
 },
 "nbformat": 4,
 "nbformat_minor": 5
}
