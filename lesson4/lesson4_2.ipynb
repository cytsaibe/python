{
 "cells": [
  {
   "cell_type": "markdown",
   "id": "2da258d4",
   "metadata": {},
   "source": [
    "### if->流程控制"
   ]
  },
  {
   "cell_type": "code",
   "execution_count": 1,
   "id": "dcb3200b",
   "metadata": {},
   "outputs": [
    {
     "name": "stdout",
     "output_type": "stream",
     "text": [
      "這是雙項選擇\n",
      "這是True的程式區塊\n"
     ]
    }
   ],
   "source": [
    "if True:    \n",
    "    print(\"這是雙項選擇\")\n",
    "    print(\"這是True的程式區塊\")\n",
    "else:\n",
    "    print(\"這是雙項選擇\")\n",
    "    print(\"這是False的程式區塊\")"
   ]
  },
  {
   "cell_type": "code",
   "execution_count": 9,
   "id": "b62ad0c2",
   "metadata": {},
   "outputs": [
    {
     "name": "stdout",
     "output_type": "stream",
     "text": [
      "未成年\n"
     ]
    }
   ],
   "source": [
    "age = int (input(\"請輸入年齡\"))\n",
    "if age < 18:\n",
    "        print(\"未成年\")\n",
    "else:\n",
    "        print(\"成年\")"
   ]
  },
  {
   "cell_type": "markdown",
   "id": "ec45be77",
   "metadata": {},
   "source": [
    "## 學生總分為300\n",
    "## 有些學生可以加分5%\n",
    "\n"
   ]
  },
  {
   "cell_type": "code",
   "execution_count": 18,
   "id": "66d32202",
   "metadata": {},
   "outputs": [
    {
     "name": "stdout",
     "output_type": "stream",
     "text": [
      "學生分數是:-105\n"
     ]
    }
   ],
   "source": [
    "scores = int(input(\"請輸入學生分數(最高300分)\"))\n",
    "is_add = input(\"學生是否符合加分條件?(y,n)\")\n",
    "if(is_add == \"y\"):\n",
    "    scores*=1.05\n",
    "    if scores > 300:\n",
    "        scores = 300\n",
    "\n",
    "print(f\"學生分數是:{round(scores)}\")"
   ]
  },
  {
   "cell_type": "markdown",
   "id": "225efc1b",
   "metadata": {},
   "source": [
    "**處理raise exception**\n",
    "**try: except:處理錯誤"
   ]
  },
  {
   "cell_type": "code",
   "execution_count": 27,
   "id": "887016d5",
   "metadata": {},
   "outputs": [],
   "source": [
    "try:\n",
    "    25 / 20\n",
    "except:\n",
    "    print(\"發生錯誤\")"
   ]
  },
  {
   "cell_type": "code",
   "execution_count": 35,
   "id": "cb23340b",
   "metadata": {},
   "outputs": [
    {
     "name": "stdout",
     "output_type": "stream",
     "text": [
      "5.0\n",
      "程式結束\n"
     ]
    }
   ],
   "source": [
    "divitionBy = int (input(\"請輸入除數\"))\n",
    "try:\n",
    "    print(25 / divitionBy)\n",
    "except:\n",
    "    print(\"發生錯誤\")\n",
    "\n",
    "print(\"程式結束\")"
   ]
  }
 ],
 "metadata": {
  "kernelspec": {
   "display_name": "base",
   "language": "python",
   "name": "python3"
  },
  "language_info": {
   "codemirror_mode": {
    "name": "ipython",
    "version": 3
   },
   "file_extension": ".py",
   "mimetype": "text/x-python",
   "name": "python",
   "nbconvert_exporter": "python",
   "pygments_lexer": "ipython3",
   "version": "3.12.7"
  }
 },
 "nbformat": 4,
 "nbformat_minor": 5
}
