{
 "cells": [
  {
   "cell_type": "code",
   "execution_count": 1,
   "id": "ed1f0ac4",
   "metadata": {},
   "outputs": [
    {
     "name": "stdout",
     "output_type": "stream",
     "text": [
      "熊\n"
     ]
    }
   ],
   "source": [
    "furry:bool =True\n",
    "small:bool =False\n",
    "\n",
    "if furry:\n",
    "    if small:\n",
    "        print(\"貓\")\n",
    "    else:\n",
    "        print(\"熊\")\n",
    "else:\n",
    "    if small:\n",
    "        print(\"小蜥蜴\")\n",
    "    else:\n",
    "        print(\"人類\")"
   ]
  },
  {
   "cell_type": "code",
   "execution_count": 8,
   "id": "a2a0db13",
   "metadata": {},
   "outputs": [
    {
     "name": "stdout",
     "output_type": "stream",
     "text": [
      "學生等級:不及格\n"
     ]
    }
   ],
   "source": [
    "score:int = int(input(\"請輸入學生分數\"))\n",
    "if score >=80:\n",
    "    grade:str = \"優\"\n",
    "else:\n",
    "    #小於80分\n",
    "    if score>= 60:\n",
    "        grade:str = \"及格\"\n",
    "    else:\n",
    "        grade:str = \"不及格\"\n",
    "print(F\"學生等級:{grade}\")"
   ]
  },
  {
   "cell_type": "code",
   "execution_count": 12,
   "id": "107a49a3",
   "metadata": {},
   "outputs": [
    {
     "name": "stdout",
     "output_type": "stream",
     "text": [
      "學生等級:不及格\n"
     ]
    }
   ],
   "source": [
    "score:int = int(input(\"請輸入學生分數\"))\n",
    "if score >=80:\n",
    "    grade:str = \"優\"\n",
    "elif score>= 60:\n",
    "    grade:str = \"及格\"\n",
    "else:\n",
    "    grade:str = \"不及格\"\n",
    "print(F\"學生等級:{grade}\")"
   ]
  },
  {
   "cell_type": "markdown",
   "id": "1c0df27d",
   "metadata": {},
   "source": [
    "- 90(含)~100 優\n",
    "- 80(含)~90 甲\n",
    "- 70(含)~80 乙\n",
    "- 60(含)~70 丙\n",
    "- 60以下 丁"
   ]
  },
  {
   "cell_type": "code",
   "execution_count": 22,
   "id": "3627f1df",
   "metadata": {},
   "outputs": [
    {
     "name": "stdout",
     "output_type": "stream",
     "text": [
      "學生等級:丁\n"
     ]
    }
   ],
   "source": [
    "score:int = int(input(\"請輸入學生分數\"))\n",
    "if score >=90:\n",
    "    grade:str = \"優\"\n",
    "elif score >= 80:\n",
    "    grade:str = \"甲\"\n",
    "elif score >= 70:\n",
    "    grade:str = \"乙\"\n",
    "elif score >= 60:\n",
    "    grade:str = \"丙\"\n",
    "else:\n",
    "    grade:str = \"丁\"\n",
    "print(F\"學生等級:{grade}\")"
   ]
  },
  {
   "cell_type": "code",
   "execution_count": 29,
   "id": "513ce337",
   "metadata": {},
   "outputs": [
    {
     "name": "stdout",
     "output_type": "stream",
     "text": [
      "實付金額:104000\n"
     ]
    }
   ],
   "source": [
    "money:int = int(input(\"請輸入購買金額\"))\n",
    "if money >=100000:\n",
    "    pay_money:int = int(money*0.8)\n",
    "elif money >=50000:\n",
    "    pay_money:int = int(money*0.85)\n",
    "elif money >=30000:\n",
    "    pay_money:int = int(money*0.9)\n",
    "elif money >=10000:\n",
    "    pay_money:int = int(money*0.95)\n",
    "else:\n",
    "    pay_money:int = int(money)\n",
    "print(f\"實付金額:{pay_money}\")"
   ]
  },
  {
   "cell_type": "code",
   "execution_count": 31,
   "id": "75cdc4ce",
   "metadata": {},
   "outputs": [
    {
     "name": "stdout",
     "output_type": "stream",
     "text": [
      "實付金額:84999\n"
     ]
    }
   ],
   "source": [
    "money:int = int(input(\"請輸入購買金額\"))\n",
    "if money <10000:\n",
    "    pay_money:int = int(money)\n",
    "elif money <30000:\n",
    "    pay_money:int = int(money*0.95)\n",
    "elif money <50000:\n",
    "    pay_money:int = int(money*0.9)\n",
    "elif money <100000:\n",
    "    pay_money:int = int(money*0.85)\n",
    "else:\n",
    "    pay_money:int = int(money*0.8)\n",
    "print(f\"實付金額:{pay_money}\")"
   ]
  },
  {
   "cell_type": "code",
   "execution_count": 45,
   "id": "b3e2b604",
   "metadata": {},
   "outputs": [
    {
     "name": "stdout",
     "output_type": "stream",
     "text": [
      "BMI:21.6\n",
      "狀態:正常\n"
     ]
    }
   ],
   "source": [
    "height:int = int(input(\"請輸入身高公分\"))\n",
    "weight:int = int(input(\"請輸入體重公斤\"))\n",
    "BMI = round(weight/height/height*100*100,1)\n",
    "print(f\"BMI:{BMI}\")\n",
    "\n",
    "if BMI <18.5:\n",
    "    status:str = str(\"體重過輕\")\n",
    "elif 18.5<=BMI <24:\n",
    "    status:str = str(\"正常\")\n",
    "elif 24<=BMI <27:\n",
    "    status:str = str(\"過重\")\n",
    "elif 27<=BMI <30:\n",
    "    status:str = str(\"輕度肥胖\")\n",
    "elif 30<=BMI <35:\n",
    "    status:str = str(\"中度肥胖\")\n",
    "else:\n",
    "    status:str = str(\"重度肥胖\")\n",
    "print(f\"狀態:{status}\")"
   ]
  },
  {
   "cell_type": "code",
   "execution_count": null,
   "id": "934cbc38",
   "metadata": {},
   "outputs": [
    {
     "name": "stdout",
     "output_type": "stream",
     "text": [
      "身高:155cm\n",
      "體重:52kg\n",
      "BMI:21.6\n",
      "狀態:正常\n"
     ]
    }
   ],
   "source": [
    "height:int = int(input(\"請輸入身高公分\"))\n",
    "weight:int = int(input(\"請輸入體重公斤\"))\n",
    "BMI = round(weight/height/height*100*100,1)\n",
    "print(f\"身高:{height}\"\"cm\")\n",
    "print(f\"體重:{weight}\"\"kg\")\n",
    "print(f\"BMI:{BMI}\")\n",
    "\n",
    "if BMI < 18.5:\n",
    "    status = \"體重過輕\"\n",
    "elif 18.5 <= BMI < 24:\n",
    "    status = \"正常\"\n",
    "elif 24 <= BMI < 27:\n",
    "    status = \"過重\"\n",
    "elif 27 <= BMI < 30:\n",
    "    status = \"輕度肥胖\"\n",
    "elif 30 <= BMI <35:\n",
    "    status = \"中度肥胖\"\n",
    "else:\n",
    "    status = \"重度肥胖\"\n",
    "print(f\"狀態:{status}\")"
   ]
  },
  {
   "cell_type": "code",
   "execution_count": 47,
   "id": "f533e376",
   "metadata": {},
   "outputs": [
    {
     "name": "stdout",
     "output_type": "stream",
     "text": [
      "獎金:0\n"
     ]
    }
   ],
   "source": [
    "# 國文100同時數學100,獎金1000\n",
    "# 只有一科100分,獎金500\n",
    "chinese = int(input(\"請輸入國文分數\"))\n",
    "math = int(input(\"請輸入數學分數\"))\n",
    "#巢狀判斷\n",
    "bonus = 0\n",
    "if chinese == 100:\n",
    "    if math == 100:\n",
    "        bonus = 1000\n",
    "    else:\n",
    "        bonus = 500\n",
    "elif math == 100:\n",
    "    bonus = 500\n",
    "\n",
    "print(f\"獎金:{bonus}\")"
   ]
  },
  {
   "cell_type": "code",
   "execution_count": null,
   "id": "98363837",
   "metadata": {},
   "outputs": [],
   "source": []
  }
 ],
 "metadata": {
  "kernelspec": {
   "display_name": "base",
   "language": "python",
   "name": "python3"
  },
  "language_info": {
   "codemirror_mode": {
    "name": "ipython",
    "version": 3
   },
   "file_extension": ".py",
   "mimetype": "text/x-python",
   "name": "python",
   "nbconvert_exporter": "python",
   "pygments_lexer": "ipython3",
   "version": "3.12.7"
  }
 },
 "nbformat": 4,
 "nbformat_minor": 5
}
