{
 "cells": [
  {
   "cell_type": "markdown",
   "id": "492dfeb2",
   "metadata": {},
   "source": [
    "如果明確知道執行的次數,請使用for in 迴圈"
   ]
  },
  {
   "cell_type": "code",
   "execution_count": 1,
   "id": "fa504cb9",
   "metadata": {},
   "outputs": [
    {
     "name": "stdout",
     "output_type": "stream",
     "text": [
      "5050\n"
     ]
    }
   ],
   "source": [
    "total = 0\n",
    "for i in range(1,101):\n",
    "    total +=  i\n",
    "print(total)"
   ]
  },
  {
   "cell_type": "markdown",
   "id": "c4b9563e",
   "metadata": {},
   "source": [
    "### _ 省略運算子"
   ]
  },
  {
   "cell_type": "code",
   "execution_count": 6,
   "id": "94cf3f6e",
   "metadata": {},
   "outputs": [
    {
     "name": "stdout",
     "output_type": "stream",
     "text": [
      "再來啊!!!\n",
      "再來啊!!!\n",
      "再來啊!!!\n"
     ]
    }
   ],
   "source": [
    "for _i in range(3):\n",
    "    print(\"再來啊!!!\")"
   ]
  },
  {
   "cell_type": "markdown",
   "id": "71590c3f",
   "metadata": {},
   "source": [
    "字串,也是Sequence"
   ]
  },
  {
   "cell_type": "code",
   "execution_count": 5,
   "id": "bb2085a8",
   "metadata": {},
   "outputs": [
    {
     "name": "stdout",
     "output_type": "stream",
     "text": [
      "再\n",
      "來\n",
      "啊\n",
      "3\n",
      "0\n",
      "6\n",
      "7\n",
      "8\n"
     ]
    }
   ],
   "source": [
    "for word in \"再來啊30678\":\n",
    "    print(word)"
   ]
  }
 ],
 "metadata": {
  "kernelspec": {
   "display_name": "base",
   "language": "python",
   "name": "python3"
  },
  "language_info": {
   "codemirror_mode": {
    "name": "ipython",
    "version": 3
   },
   "file_extension": ".py",
   "mimetype": "text/x-python",
   "name": "python",
   "nbconvert_exporter": "python",
   "pygments_lexer": "ipython3",
   "version": "3.12.7"
  }
 },
 "nbformat": 4,
 "nbformat_minor": 5
}
