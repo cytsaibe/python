{
 "cells": [
  {
   "cell_type": "code",
   "execution_count": 48,
   "id": "14055df2",
   "metadata": {},
   "outputs": [
    {
     "name": "stdout",
     "output_type": "stream",
     "text": [
      "2\n",
      "4\n",
      "6\n",
      "8\n",
      "10\n"
     ]
    }
   ],
   "source": [
    "#tuple是串列資料\n",
    "for i in (2, 4, 6, 8, 10):\n",
    "    print(i)"
   ]
  },
  {
   "cell_type": "code",
   "execution_count": 49,
   "id": "b99e3534",
   "metadata": {},
   "outputs": [
    {
     "name": "stdout",
     "output_type": "stream",
     "text": [
      "1\n",
      "3\n",
      "5\n",
      "7\n",
      "9\n"
     ]
    }
   ],
   "source": [
    "#list串列資料\n",
    "for i in[1, 3, 5, 7, 9]:\n",
    "    print(i)"
   ]
  },
  {
   "cell_type": "code",
   "execution_count": 50,
   "id": "c53c1433",
   "metadata": {},
   "outputs": [
    {
     "name": "stdout",
     "output_type": "stream",
     "text": [
      "1\n",
      "3\n",
      "5\n",
      "7\n",
      "9\n"
     ]
    }
   ],
   "source": [
    "#list串列資料\n",
    "for i in [1, 3, 5, 7, 9]:\n",
    "    print(i)"
   ]
  },
  {
   "cell_type": "markdown",
   "id": "bb2cedce",
   "metadata": {},
   "source": [
    "### 巢狀迴圈"
   ]
  },
  {
   "cell_type": "code",
   "execution_count": 51,
   "id": "91244406",
   "metadata": {},
   "outputs": [
    {
     "name": "stdout",
     "output_type": "stream",
     "text": [
      "i=1\n",
      "j=1 j=2 j=3 j=4 j=5 j=6 j=7 j=8 j=9 \n",
      "i=2\n",
      "j=1 j=2 j=3 j=4 j=5 j=6 j=7 j=8 j=9 \n",
      "i=3\n",
      "j=1 j=2 j=3 j=4 j=5 j=6 j=7 j=8 j=9 \n",
      "i=4\n",
      "j=1 j=2 j=3 j=4 j=5 j=6 j=7 j=8 j=9 \n",
      "i=5\n",
      "j=1 j=2 j=3 j=4 j=5 j=6 j=7 j=8 j=9 \n",
      "i=6\n",
      "j=1 j=2 j=3 j=4 j=5 j=6 j=7 j=8 j=9 \n",
      "i=7\n",
      "j=1 j=2 j=3 j=4 j=5 j=6 j=7 j=8 j=9 \n",
      "i=8\n",
      "j=1 j=2 j=3 j=4 j=5 j=6 j=7 j=8 j=9 \n",
      "i=9\n",
      "j=1 j=2 j=3 j=4 j=5 j=6 j=7 j=8 j=9 \n"
     ]
    }
   ],
   "source": [
    "for i in range(1,10):\n",
    "    print(f\"i={i}\")\n",
    "    for j in range(1,10):\n",
    "        print(f\"j={j}\", end=\" \")\n",
    "    print()"
   ]
  },
  {
   "cell_type": "code",
   "execution_count": 52,
   "id": "221d98ff",
   "metadata": {},
   "outputs": [
    {
     "name": "stdout",
     "output_type": "stream",
     "text": [
      "1 * 1 = 1  1 * 2 = 2  1 * 3 = 3  1 * 4 = 4  1 * 5 = 5  1 * 6 = 6  1 * 7 = 7  1 * 8 = 8  1 * 9 = 9  \n",
      "2 * 1 = 2  2 * 2 = 4  2 * 3 = 6  2 * 4 = 8  2 * 5 =10  2 * 6 =12  2 * 7 =14  2 * 8 =16  2 * 9 =18  \n",
      "3 * 1 = 3  3 * 2 = 6  3 * 3 = 9  3 * 4 =12  3 * 5 =15  3 * 6 =18  3 * 7 =21  3 * 8 =24  3 * 9 =27  \n",
      "4 * 1 = 4  4 * 2 = 8  4 * 3 =12  4 * 4 =16  4 * 5 =20  4 * 6 =24  4 * 7 =28  4 * 8 =32  4 * 9 =36  \n",
      "5 * 1 = 5  5 * 2 =10  5 * 3 =15  5 * 4 =20  5 * 5 =25  5 * 6 =30  5 * 7 =35  5 * 8 =40  5 * 9 =45  \n",
      "6 * 1 = 6  6 * 2 =12  6 * 3 =18  6 * 4 =24  6 * 5 =30  6 * 6 =36  6 * 7 =42  6 * 8 =48  6 * 9 =54  \n",
      "7 * 1 = 7  7 * 2 =14  7 * 3 =21  7 * 4 =28  7 * 5 =35  7 * 6 =42  7 * 7 =49  7 * 8 =56  7 * 9 =63  \n",
      "8 * 1 = 8  8 * 2 =16  8 * 3 =24  8 * 4 =32  8 * 5 =40  8 * 6 =48  8 * 7 =56  8 * 8 =64  8 * 9 =72  \n",
      "9 * 1 = 9  9 * 2 =18  9 * 3 =27  9 * 4 =36  9 * 5 =45  9 * 6 =54  9 * 7 =63  9 * 8 =72  9 * 9 =81  \n"
     ]
    }
   ],
   "source": [
    "for i in range(1,10):\n",
    "    for j in range(1,10):\n",
    "        print(f\"{i:<2d}*{j:2d} ={i*j:2d}\", end=\"  \")\n",
    "    print()"
   ]
  },
  {
   "cell_type": "code",
   "execution_count": 60,
   "id": "fb577a57",
   "metadata": {},
   "outputs": [
    {
     "name": "stdout",
     "output_type": "stream",
     "text": [
      "1 * 1 = 1  1 * 2 = 2  1 * 3 = 3  1 * 4 = 4  1 * 5 = 5  1 * 6 = 6  1 * 7 = 7  1 * 8 = 8  1 * 9 = 9  2 * 1 = 2  2 * 2 = 4  2 * 3 = 6  2 * 4 = 8  2 * 5 =10  2 * 6 =12  2 * 7 =14  2 * 8 =16  2 * 9 =18  3 * 1 = 3  3 * 2 = 6  3 * 3 = 9  3 * 4 =12  3 * 5 =15  3 * 6 =18  3 * 7 =21  3 * 8 =24  3 * 9 =27  4 * 1 = 4  4 * 2 = 8  4 * 3 =12  4 * 4 =16  4 * 5 =20  4 * 6 =24  4 * 7 =28  4 * 8 =32  4 * 9 =36  5 * 1 = 5  5 * 2 =10  5 * 3 =15  5 * 4 =20  5 * 5 =25  5 * 6 =30  5 * 7 =35  5 * 8 =40  5 * 9 =45  6 * 1 = 6  6 * 2 =12  6 * 3 =18  6 * 4 =24  6 * 5 =30  6 * 6 =36  6 * 7 =42  6 * 8 =48  6 * 9 =54  7 * 1 = 7  7 * 2 =14  7 * 3 =21  7 * 4 =28  7 * 5 =35  7 * 6 =42  7 * 7 =49  7 * 8 =56  7 * 9 =63  8 * 1 = 8  8 * 2 =16  8 * 3 =24  8 * 4 =32  8 * 5 =40  8 * 6 =48  8 * 7 =56  8 * 8 =64  8 * 9 =72  9 * 1 = 9  9 * 2 =18  9 * 3 =27  9 * 4 =36  9 * 5 =45  9 * 6 =54  9 * 7 =63  9 * 8 =72  9 * 9 =81  "
     ]
    }
   ],
   "source": [
    "for i in range(1,10):\n",
    "    for j in range(1,10):\n",
    "        print(f\"{i:<2d}*{j:2d} ={i*j:2d}\", end=\"  \")\n",
    "   "
   ]
  },
  {
   "cell_type": "code",
   "execution_count": 53,
   "id": "e4921870",
   "metadata": {},
   "outputs": [
    {
     "name": "stdout",
     "output_type": "stream",
     "text": [
      "1 * 1 = 1\n",
      "1 * 2 = 2\n",
      "1 * 3 = 3\n",
      "1 * 4 = 4\n",
      "1 * 5 = 5\n",
      "1 * 6 = 6\n",
      "1 * 7 = 7\n",
      "1 * 8 = 8\n",
      "1 * 9 = 9\n",
      "\n",
      "2 * 1 = 2\n",
      "2 * 2 = 4\n",
      "2 * 3 = 6\n",
      "2 * 4 = 8\n",
      "2 * 5 =10\n",
      "2 * 6 =12\n",
      "2 * 7 =14\n",
      "2 * 8 =16\n",
      "2 * 9 =18\n",
      "\n",
      "3 * 1 = 3\n",
      "3 * 2 = 6\n",
      "3 * 3 = 9\n",
      "3 * 4 =12\n",
      "3 * 5 =15\n",
      "3 * 6 =18\n",
      "3 * 7 =21\n",
      "3 * 8 =24\n",
      "3 * 9 =27\n",
      "\n",
      "4 * 1 = 4\n",
      "4 * 2 = 8\n",
      "4 * 3 =12\n",
      "4 * 4 =16\n",
      "4 * 5 =20\n",
      "4 * 6 =24\n",
      "4 * 7 =28\n",
      "4 * 8 =32\n",
      "4 * 9 =36\n",
      "\n",
      "5 * 1 = 5\n",
      "5 * 2 =10\n",
      "5 * 3 =15\n",
      "5 * 4 =20\n",
      "5 * 5 =25\n",
      "5 * 6 =30\n",
      "5 * 7 =35\n",
      "5 * 8 =40\n",
      "5 * 9 =45\n",
      "\n",
      "6 * 1 = 6\n",
      "6 * 2 =12\n",
      "6 * 3 =18\n",
      "6 * 4 =24\n",
      "6 * 5 =30\n",
      "6 * 6 =36\n",
      "6 * 7 =42\n",
      "6 * 8 =48\n",
      "6 * 9 =54\n",
      "\n",
      "7 * 1 = 7\n",
      "7 * 2 =14\n",
      "7 * 3 =21\n",
      "7 * 4 =28\n",
      "7 * 5 =35\n",
      "7 * 6 =42\n",
      "7 * 7 =49\n",
      "7 * 8 =56\n",
      "7 * 9 =63\n",
      "\n",
      "8 * 1 = 8\n",
      "8 * 2 =16\n",
      "8 * 3 =24\n",
      "8 * 4 =32\n",
      "8 * 5 =40\n",
      "8 * 6 =48\n",
      "8 * 7 =56\n",
      "8 * 8 =64\n",
      "8 * 9 =72\n",
      "\n",
      "9 * 1 = 9\n",
      "9 * 2 =18\n",
      "9 * 3 =27\n",
      "9 * 4 =36\n",
      "9 * 5 =45\n",
      "9 * 6 =54\n",
      "9 * 7 =63\n",
      "9 * 8 =72\n",
      "9 * 9 =81\n",
      "\n"
     ]
    }
   ],
   "source": [
    "for i in range(1,10):\n",
    "    for j in range(1,10):\n",
    "        print(f\"{i:<2d}*{j:2d} ={i*j:2d}\")\n",
    "    print()"
   ]
  },
  {
   "cell_type": "markdown",
   "id": "6cea7040",
   "metadata": {},
   "source": [
    "### 迴圈可以和判斷整合"
   ]
  },
  {
   "cell_type": "code",
   "execution_count": 55,
   "id": "ab0bc651",
   "metadata": {},
   "outputs": [
    {
     "name": "stdout",
     "output_type": "stream",
     "text": [
      "10的因數有1 2 5 10 "
     ]
    }
   ],
   "source": [
    "print(\"10的因數有\", end=\"\")\n",
    "for i in range(1,11):\n",
    "    if 10 % i == 0:\n",
    "        print(i, end=\" \")"
   ]
  },
  {
   "cell_type": "code",
   "execution_count": 62,
   "id": "e3995734",
   "metadata": {},
   "outputs": [
    {
     "name": "stdout",
     "output_type": "stream",
     "text": [
      "400的因數有:1 2 4 5 8 10 16 20 25 40 50 80 100 200 400 "
     ]
    }
   ],
   "source": [
    "num = int(input(\"key_in_int\"))\n",
    "print(f\"{num}的因數有:\", end=\"\")\n",
    "for i in range(1,num+1):\n",
    "    if num % i == 0:\n",
    "        print(i, end=\" \")"
   ]
  },
  {
   "cell_type": "code",
   "execution_count": 59,
   "id": "dd38d089",
   "metadata": {},
   "outputs": [
    {
     "name": "stdout",
     "output_type": "stream",
     "text": [
      "10的因數有:1 \n",
      "2 \n",
      "\n",
      "\n",
      "5 \n",
      "\n",
      "\n",
      "\n",
      "\n",
      "10 \n"
     ]
    }
   ],
   "source": [
    "num = int(input(\"key_in_int\"))\n",
    "print(f\"{num}的因數有:\", end=\"\")\n",
    "for i in range(1,num+1):\n",
    "    if num % i == 0:\n",
    "        print(i, end=\" \")\n",
    "    print()"
   ]
  },
  {
   "cell_type": "code",
   "execution_count": 63,
   "id": "b8ab4418",
   "metadata": {},
   "outputs": [
    {
     "name": "stdout",
     "output_type": "stream",
     "text": [
      "10的因數有:\n",
      "1 2 5 10 "
     ]
    }
   ],
   "source": [
    "num = int(input(\"key_in_int\"))\n",
    "print(f\"{num}的因數有:\")\n",
    "for i in range(1,num+1):\n",
    "    if num % i == 0:\n",
    "        print(i, end=\" \")"
   ]
  }
 ],
 "metadata": {
  "kernelspec": {
   "display_name": "base",
   "language": "python",
   "name": "python3"
  },
  "language_info": {
   "codemirror_mode": {
    "name": "ipython",
    "version": 3
   },
   "file_extension": ".py",
   "mimetype": "text/x-python",
   "name": "python",
   "nbconvert_exporter": "python",
   "pygments_lexer": "ipython3",
   "version": "3.12.7"
  }
 },
 "nbformat": 4,
 "nbformat_minor": 5
}
