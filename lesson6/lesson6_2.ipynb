{
 "cells": [
  {
   "cell_type": "markdown",
   "id": "cee178fb",
   "metadata": {},
   "source": [
    "### 不知道迴圈次數的迴圈"
   ]
  },
  {
   "cell_type": "code",
   "execution_count": 5,
   "id": "31e67441",
   "metadata": {},
   "outputs": [
    {
     "name": "stdout",
     "output_type": "stream",
     "text": [
      "夠了,存了4個月,共存了30500\n"
     ]
    }
   ],
   "source": [
    "deposit = 0\n",
    "month = 0\n",
    "while(deposit < 30000):\n",
    "    month += 1\n",
    "    input_money = int(input(\"請輸入本月存款:\"))\n",
    "    deposit += input_money \n",
    "print(f\"夠了,存了{month}個月,共存了{deposit}\")"
   ]
  },
  {
   "cell_type": "code",
   "execution_count": null,
   "id": "02d12559",
   "metadata": {},
   "outputs": [],
   "source": []
  }
 ],
 "metadata": {
  "kernelspec": {
   "display_name": "base",
   "language": "python",
   "name": "python3"
  },
  "language_info": {
   "codemirror_mode": {
    "name": "ipython",
    "version": 3
   },
   "file_extension": ".py",
   "mimetype": "text/x-python",
   "name": "python",
   "nbconvert_exporter": "python",
   "pygments_lexer": "ipython3",
   "version": "3.12.7"
  }
 },
 "nbformat": 4,
 "nbformat_minor": 5
}
