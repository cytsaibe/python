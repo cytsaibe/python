{
 "cells": [
  {
   "cell_type": "markdown",
   "id": "cee178fb",
   "metadata": {},
   "source": [
    "### 不知道迴圈次數的迴圈"
   ]
  },
  {
   "cell_type": "code",
   "execution_count": 5,
   "id": "31e67441",
   "metadata": {},
   "outputs": [
    {
     "name": "stdout",
     "output_type": "stream",
     "text": [
      "夠了,存了4個月,共存了30500\n"
     ]
    }
   ],
   "source": [
    "deposit = 0\n",
    "month = 0\n",
    "while(deposit < 30000):\n",
    "    month += 1\n",
    "    input_money = int(input(\"請輸入本月存款:\"))\n",
    "    deposit += input_money \n",
    "print(f\"夠了,存了{month}個月,共存了{deposit}\")"
   ]
  },
  {
   "cell_type": "code",
   "execution_count": 6,
   "id": "02d12559",
   "metadata": {},
   "outputs": [
    {
     "name": "stdout",
     "output_type": "stream",
     "text": [
      "夠了,存了2個月,共存了30000\n"
     ]
    }
   ],
   "source": [
    "deposit = 0\n",
    "month = 0\n",
    "while(deposit < 30000):\n",
    "    month += 1\n",
    "    input_money = int(input(\"請輸入本月存款:\"))\n",
    "    deposit += input_money \n",
    "    if(deposit>=30000):\n",
    "        break\n",
    "print(f\"夠了,存了{month}個月,共存了{deposit}\")"
   ]
  },
  {
   "cell_type": "markdown",
   "id": "2899bcdd",
   "metadata": {},
   "source": [
    "- 奇數輸出平方"
   ]
  },
  {
   "cell_type": "markdown",
   "id": "6ff8f64f",
   "metadata": {},
   "source": [
    "- 偶數不做任何動作"
   ]
  },
  {
   "cell_type": "markdown",
   "id": "b4e967b4",
   "metadata": {},
   "source": [
    "- 'q'要離開"
   ]
  },
  {
   "cell_type": "code",
   "execution_count": 10,
   "id": "a631e14e",
   "metadata": {},
   "outputs": [
    {
     "name": "stdout",
     "output_type": "stream",
     "text": [
      "9是奇數,9的平方是81\n",
      "9是奇數,9的平方是81\n",
      "100是偶數,不動作\n"
     ]
    }
   ],
   "source": [
    "while(True):\n",
    "    value = input(\"請輸入整數,輸入[q]離開:\")\n",
    "    if value == \"q\":\n",
    "        break\n",
    "    try:\n",
    "        value = int(value)\n",
    "    except:\n",
    "        print(\"你輸入錯誤啦!哈哈XD,再來一次\")\n",
    "        continue\n",
    "    \n",
    "    if value % 2 == 1:\n",
    "        print(f\"{value}是奇數,{value}的平方是{value**2}\")\n",
    "    else:\n",
    "         print(f\"{value}是偶數,不動作\")"
   ]
  },
  {
   "cell_type": "code",
   "execution_count": 35,
   "id": "166e2199",
   "metadata": {},
   "outputs": [
    {
     "data": {
      "text/plain": [
       "7"
      ]
     },
     "execution_count": 35,
     "metadata": {},
     "output_type": "execute_result"
    }
   ],
   "source": [
    "import random\n",
    "rand_num = random.randint(5,10)\n",
    "rand_num"
   ]
  }
 ],
 "metadata": {
  "kernelspec": {
   "display_name": "base",
   "language": "python",
   "name": "python3"
  },
  "language_info": {
   "codemirror_mode": {
    "name": "ipython",
    "version": 3
   },
   "file_extension": ".py",
   "mimetype": "text/x-python",
   "name": "python",
   "nbconvert_exporter": "python",
   "pygments_lexer": "ipython3",
   "version": "3.12.7"
  }
 },
 "nbformat": 4,
 "nbformat_minor": 5
}
