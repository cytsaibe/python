{
 "cells": [
  {
   "cell_type": "code",
   "execution_count": 10,
   "id": "4e8fcf01",
   "metadata": {},
   "outputs": [
    {
     "name": "stdout",
     "output_type": "stream",
     "text": [
      "=========猜數字遊戲============\n",
      "\n",
      "\n",
      "錯了,要再大一點\n",
      "你猜了1次\n",
      "錯了,要再大一點\n",
      "你猜了2次\n",
      "錯了,要再小一點\n",
      "你猜了3次\n",
      "錯了,要再大一點\n",
      "你猜了4次\n",
      "錯了,要再大一點\n",
      "你猜了5次\n",
      "錯了,要再大一點\n",
      "你猜了6次\n",
      "錯了,要再小一點\n",
      "你猜了7次\n",
      "bingo,答案就是:42\n",
      "你猜了8次\n"
     ]
    }
   ],
   "source": [
    "import random\n",
    "min = 1\n",
    "max = 99\n",
    "count = 0\n",
    "target = random.randint(min, max)\n",
    "print(\"=========猜數字遊戲============\\n\\n\")\n",
    "while(True):\n",
    "    keyin = int(input(f\"猜數字範圍{min}~{max}\"))\n",
    "    count+=1\n",
    "    if(keyin >= min and keyin<= max):\n",
    "        if(keyin == target):\n",
    "            print(f\"bingo,答案就是:{target}\")\n",
    "            print(f\"你猜了{count}次\")\n",
    "            break\n",
    "        elif keyin < target:\n",
    "            print(f\"錯了,要再大一點\")\n",
    "            print(f\"你猜了{count}次\")\n",
    "            min = keyin+1\n",
    "        elif keyin > target:\n",
    "            print(f\"錯了,要再小一點\")\n",
    "            print(f\"你猜了{count}次\")\n",
    "            max = keyin-1\n",
    "    else:\n",
    "        print(\"請輸入提示範圍內的數字\")"
   ]
  }
 ],
 "metadata": {
  "kernelspec": {
   "display_name": "base",
   "language": "python",
   "name": "python3"
  },
  "language_info": {
   "codemirror_mode": {
    "name": "ipython",
    "version": 3
   },
   "file_extension": ".py",
   "mimetype": "text/x-python",
   "name": "python",
   "nbconvert_exporter": "python",
   "pygments_lexer": "ipython3",
   "version": "3.12.7"
  }
 },
 "nbformat": 4,
 "nbformat_minor": 5
}
