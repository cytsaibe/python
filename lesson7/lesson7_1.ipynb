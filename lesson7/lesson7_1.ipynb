{
 "cells": [
  {
   "cell_type": "code",
   "execution_count": 2,
   "id": "c24d9d1d",
   "metadata": {},
   "outputs": [
    {
     "name": "stdout",
     "output_type": "stream",
     "text": [
      "身高:100cm\n",
      "體重:20kg\n",
      "BMI:20.0\n",
      "狀態:正常\n"
     ]
    }
   ],
   "source": [
    "height:int = int(input(\"請輸入身高公分\"))\n",
    "weight:int = int(input(\"請輸入體重公斤\"))\n",
    "BMI:float = round(weight/pow(height/100,2),1)\n",
    "\n",
    "print(f\"身高:{height}\"\"cm\")\n",
    "print(f\"體重:{weight}\"\"kg\")\n",
    "print(f\"BMI:{BMI}\")\n",
    "\n",
    "if BMI < 18.5:\n",
    "    status = \"體重過輕\"\n",
    "elif BMI < 24:\n",
    "    status = \"正常\"\n",
    "elif BMI < 27:\n",
    "    status = \"過重\"\n",
    "elif BMI < 30:\n",
    "    status = \"輕度肥胖\"\n",
    "elif BMI <35:\n",
    "    status = \"中度肥胖\"\n",
    "else:\n",
    "    status = \"重度肥胖\"\n",
    "print(f\"狀態:{status}\")"
   ]
  },
  {
   "cell_type": "code",
   "execution_count": 3,
   "id": "ca2ae2e1",
   "metadata": {},
   "outputs": [
    {
     "data": {
      "text/plain": [
       "{'__name__': '__main__',\n",
       " '__doc__': 'Automatically created module for IPython interactive environment',\n",
       " '__package__': None,\n",
       " '__loader__': None,\n",
       " '__spec__': None,\n",
       " '__builtin__': <module 'builtins' (built-in)>,\n",
       " '__builtins__': <module 'builtins' (built-in)>,\n",
       " '_ih': ['',\n",
       "  'vars()',\n",
       "  'height:int = int(input(\"請輸入身高公分\"))\\nweight:int = int(input(\"請輸入體重公斤\"))\\nBMI:float = round(weight/pow(height/100,2),1)\\n\\nprint(f\"身高:{height}\"\"cm\")\\nprint(f\"體重:{weight}\"\"kg\")\\nprint(f\"BMI:{BMI}\")\\n\\nif BMI < 18.5:\\n    status = \"體重過輕\"\\nelif BMI < 24:\\n    status = \"正常\"\\nelif BMI < 27:\\n    status = \"過重\"\\nelif BMI < 30:\\n    status = \"輕度肥胖\"\\nelif BMI <35:\\n    status = \"中度肥胖\"\\nelse:\\n    status = \"重度肥胖\"\\nprint(f\"狀態:{status}\")',\n",
       "  'vars()'],\n",
       " '_oh': {1: {...}},\n",
       " '_dh': [PosixPath('/workspaces/python/lesson7')],\n",
       " 'In': ['',\n",
       "  'vars()',\n",
       "  'height:int = int(input(\"請輸入身高公分\"))\\nweight:int = int(input(\"請輸入體重公斤\"))\\nBMI:float = round(weight/pow(height/100,2),1)\\n\\nprint(f\"身高:{height}\"\"cm\")\\nprint(f\"體重:{weight}\"\"kg\")\\nprint(f\"BMI:{BMI}\")\\n\\nif BMI < 18.5:\\n    status = \"體重過輕\"\\nelif BMI < 24:\\n    status = \"正常\"\\nelif BMI < 27:\\n    status = \"過重\"\\nelif BMI < 30:\\n    status = \"輕度肥胖\"\\nelif BMI <35:\\n    status = \"中度肥胖\"\\nelse:\\n    status = \"重度肥胖\"\\nprint(f\"狀態:{status}\")',\n",
       "  'vars()'],\n",
       " 'Out': {1: {...}},\n",
       " 'get_ipython': <bound method InteractiveShell.get_ipython of <ipykernel.zmqshell.ZMQInteractiveShell object at 0x729c6ab48d70>>,\n",
       " 'exit': <IPython.core.autocall.ZMQExitAutocall at 0x729c6ab48080>,\n",
       " 'quit': <IPython.core.autocall.ZMQExitAutocall at 0x729c6ab48080>,\n",
       " 'open': <function _io.open(file, mode='r', buffering=-1, encoding=None, errors=None, newline=None, closefd=True, opener=None)>,\n",
       " '_': {...},\n",
       " '__': '',\n",
       " '___': '',\n",
       " '__vsc_ipynb_file__': '/workspaces/python/lesson7/lesson7_1.ipynb',\n",
       " '_i': 'height:int = int(input(\"請輸入身高公分\"))\\nweight:int = int(input(\"請輸入體重公斤\"))\\nBMI:float = round(weight/pow(height/100,2),1)\\n\\nprint(f\"身高:{height}\"\"cm\")\\nprint(f\"體重:{weight}\"\"kg\")\\nprint(f\"BMI:{BMI}\")\\n\\nif BMI < 18.5:\\n    status = \"體重過輕\"\\nelif BMI < 24:\\n    status = \"正常\"\\nelif BMI < 27:\\n    status = \"過重\"\\nelif BMI < 30:\\n    status = \"輕度肥胖\"\\nelif BMI <35:\\n    status = \"中度肥胖\"\\nelse:\\n    status = \"重度肥胖\"\\nprint(f\"狀態:{status}\")',\n",
       " '_ii': 'vars()',\n",
       " '_iii': '',\n",
       " '_i1': 'vars()',\n",
       " '_1': {...},\n",
       " '_i2': 'height:int = int(input(\"請輸入身高公分\"))\\nweight:int = int(input(\"請輸入體重公斤\"))\\nBMI:float = round(weight/pow(height/100,2),1)\\n\\nprint(f\"身高:{height}\"\"cm\")\\nprint(f\"體重:{weight}\"\"kg\")\\nprint(f\"BMI:{BMI}\")\\n\\nif BMI < 18.5:\\n    status = \"體重過輕\"\\nelif BMI < 24:\\n    status = \"正常\"\\nelif BMI < 27:\\n    status = \"過重\"\\nelif BMI < 30:\\n    status = \"輕度肥胖\"\\nelif BMI <35:\\n    status = \"中度肥胖\"\\nelse:\\n    status = \"重度肥胖\"\\nprint(f\"狀態:{status}\")',\n",
       " '__annotations__': {'height': int, 'weight': int, 'BMI': float},\n",
       " 'height': 100,\n",
       " 'weight': 20,\n",
       " 'BMI': 20.0,\n",
       " 'status': '正常',\n",
       " '_i3': 'vars()'}"
      ]
     },
     "execution_count": 3,
     "metadata": {},
     "output_type": "execute_result"
    }
   ],
   "source": [
    "vars()"
   ]
  }
 ],
 "metadata": {
  "kernelspec": {
   "display_name": "base",
   "language": "python",
   "name": "python3"
  },
  "language_info": {
   "codemirror_mode": {
    "name": "ipython",
    "version": 3
   },
   "file_extension": ".py",
   "mimetype": "text/x-python",
   "name": "python",
   "nbconvert_exporter": "python",
   "pygments_lexer": "ipython3",
   "version": "3.12.7"
  }
 },
 "nbformat": 4,
 "nbformat_minor": 5
}
