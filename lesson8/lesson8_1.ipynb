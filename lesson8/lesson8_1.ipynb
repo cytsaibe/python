{
 "cells": [
  {
   "cell_type": "markdown",
   "id": "29652c2b",
   "metadata": {},
   "source": [
    "### 如合乎叫function"
   ]
  },
  {
   "cell_type": "code",
   "execution_count": 7,
   "id": "866310e6",
   "metadata": {},
   "outputs": [],
   "source": [
    "def menu(wine:str, entree:str, dessert:str):\n",
    "    print(f\"前酒:{wine}\")\n",
    "    print(f\"主菜:{entree}\")\n",
    "    print(f\"甜點:{dessert}\")\n"
   ]
  },
  {
   "cell_type": "markdown",
   "id": "4a55e408",
   "metadata": {},
   "source": [
    "### 引數值的呼叫(依照參數的順序)"
   ]
  },
  {
   "cell_type": "code",
   "execution_count": 8,
   "id": "6cb8852e",
   "metadata": {},
   "outputs": [
    {
     "name": "stdout",
     "output_type": "stream",
     "text": [
      "前酒:白酒\n",
      "主菜:雞排\n",
      "甜點:蛋糕\n"
     ]
    }
   ],
   "source": [
    "menu('白酒','雞排','蛋糕')"
   ]
  },
  {
   "cell_type": "markdown",
   "id": "2ad0af22",
   "metadata": {},
   "source": [
    "### 引數名稱的呼叫(可以不依照順序)"
   ]
  },
  {
   "cell_type": "code",
   "execution_count": 6,
   "id": "6db93115",
   "metadata": {},
   "outputs": [
    {
     "name": "stdout",
     "output_type": "stream",
     "text": [
      "前酒:白酒\n",
      "主菜:雞排\n",
      "甜點:蛋糕\n",
      "前酒:白酒\n",
      "主菜:雞排\n",
      "甜點:蛋糕\n"
     ]
    }
   ],
   "source": [
    "menu(wine = '白酒',entree ='雞排', dessert = '蛋糕')\n",
    "menu(wine = '白酒', dessert = '蛋糕',entree ='雞排')"
   ]
  },
  {
   "cell_type": "markdown",
   "id": "9a164857",
   "metadata": {},
   "source": [
    "混合呼叫\n",
    "前面要引數值呼叫\n",
    "後面要引數名稱的呼叫\n",
    "引數名稱呼叫後,就全部要使用引數名稱"
   ]
  },
  {
   "cell_type": "code",
   "execution_count": null,
   "id": "5ed835e5",
   "metadata": {},
   "outputs": [],
   "source": [
    "\n",
    "\n",
    "menu('白酒',entree='雞排',dessert='蛋糕')\n",
    "menu('白酒',dessert='蛋糕',entree='雞排')\n",
    "\n",
    "\n",
    "     \n",
    "前酒:白酒\n",
    "主菜:雞排\n",
    "甜點:蛋糕\n",
    "前酒:白酒\n",
    "主菜:雞排\n",
    "甜點:蛋糕"
   ]
  },
  {
   "cell_type": "markdown",
   "id": "96048b2e",
   "metadata": {},
   "source": [
    "### 參數有預設值\n",
    "-有預設值的參數,一定要放在最後面\n",
    "-呼叫的方式變多了"
   ]
  },
  {
   "cell_type": "code",
   "execution_count": 9,
   "id": "2d8757ed",
   "metadata": {},
   "outputs": [],
   "source": [
    "def menu(wine:str, entree:str, dessert:str='奶昔'):\n",
    "    print(f\"前酒:{wine}\")\n",
    "    print(f\"主菜:{entree}\")\n",
    "    print(f\"甜點:{dessert}\")\n"
   ]
  },
  {
   "cell_type": "code",
   "execution_count": 10,
   "id": "02a0b150",
   "metadata": {},
   "outputs": [
    {
     "name": "stdout",
     "output_type": "stream",
     "text": [
      "前酒:白酒\n",
      "主菜:雞排\n",
      "甜點:奶昔\n"
     ]
    }
   ],
   "source": [
    "menu('白酒',entree='雞排')\n",
    "\n"
   ]
  },
  {
   "cell_type": "code",
   "execution_count": 11,
   "id": "de455a68",
   "metadata": {},
   "outputs": [
    {
     "name": "stdout",
     "output_type": "stream",
     "text": [
      "前酒:白酒\n",
      "主菜:雞排\n",
      "甜點:蛋糕\n"
     ]
    }
   ],
   "source": [
    "menu('白酒',dessert='蛋糕',entree='雞排')"
   ]
  },
  {
   "cell_type": "code",
   "execution_count": 12,
   "id": "69dd3459",
   "metadata": {},
   "outputs": [
    {
     "name": "stdout",
     "output_type": "stream",
     "text": [
      "(1, 2, 3, 'a', 'b')\n"
     ]
    }
   ],
   "source": [
    "def print_args(*args):\n",
    "    print(args)\n",
    "\n",
    "print_args(1,2,3,\"a\",\"b\")\n",
    "\n"
   ]
  },
  {
   "cell_type": "code",
   "execution_count": 15,
   "id": "201b2fb6",
   "metadata": {},
   "outputs": [
    {
     "name": "stdout",
     "output_type": "stream",
     "text": [
      "{'one': 1, 'two': 2, 'three': 3, 'four': 4}\n"
     ]
    }
   ],
   "source": [
    "def print_kwargs(**kwargs):\n",
    "    print(kwargs)\n",
    "\n",
    "print_kwargs(one=1, two=2,three=3, four=4)"
   ]
  },
  {
   "cell_type": "code",
   "execution_count": 16,
   "id": "5153ce01",
   "metadata": {},
   "outputs": [
    {
     "name": "stdout",
     "output_type": "stream",
     "text": [
      "(1, 2, 3, 'a', 'b', 'c')\n",
      "{'one': 1, 'two': 2, 'three': 3, 'four': 4}\n"
     ]
    }
   ],
   "source": [
    "def print_all(*args,**kwargs):\n",
    "    print(args)\n",
    "    print(kwargs)\n",
    "\n",
    "print_all(1,2,3,'a','b','c', one=1, two=2,three=3, four=4)"
   ]
  },
  {
   "cell_type": "code",
   "execution_count": 17,
   "id": "d860802b",
   "metadata": {},
   "outputs": [
    {
     "name": "stdout",
     "output_type": "stream",
     "text": [
      "1 2 3 4 5\n",
      "\n",
      "1-2-3-4-5\n",
      "1-2-3-4-5.\n"
     ]
    }
   ],
   "source": [
    "print(1,2,3,4,5)\n",
    "print()\n",
    "print(1,2,3,4,5,sep=\"-\")\n",
    "print(1,2,3,4,5,end=\".\\n\",sep=\"-\")"
   ]
  },
  {
   "cell_type": "code",
   "execution_count": null,
   "id": "0931b255",
   "metadata": {},
   "outputs": [
    {
     "data": {
      "text/plain": [
       "1"
      ]
     },
     "execution_count": 18,
     "metadata": {},
     "output_type": "execute_result"
    }
   ],
   "source": [
    "min((1, 2, 3, 4, 5), key="
   ]
  }
 ],
 "metadata": {
  "kernelspec": {
   "display_name": "base",
   "language": "python",
   "name": "python3"
  },
  "language_info": {
   "codemirror_mode": {
    "name": "ipython",
    "version": 3
   },
   "file_extension": ".py",
   "mimetype": "text/x-python",
   "name": "python",
   "nbconvert_exporter": "python",
   "pygments_lexer": "ipython3",
   "version": "3.12.7"
  }
 },
 "nbformat": 4,
 "nbformat_minor": 5
}
