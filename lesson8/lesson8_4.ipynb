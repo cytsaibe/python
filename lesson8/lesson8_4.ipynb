{
 "cells": [
  {
   "cell_type": "markdown",
   "id": "0a0d7a01",
   "metadata": {},
   "source": [
    "### function的參數,可以要求是一個function"
   ]
  },
  {
   "cell_type": "code",
   "execution_count": 5,
   "id": "54098943",
   "metadata": {},
   "outputs": [
    {
     "data": {
      "text/plain": [
       "[1, 3, 5, 7, 9]"
      ]
     },
     "execution_count": 5,
     "metadata": {},
     "output_type": "execute_result"
    }
   ],
   "source": [
    "numbers:list[int] = [1,2,3,4,5,6,7,8,9,10]\n",
    "\n",
    "def is_odd(n):\n",
    "    if n%2==1:\n",
    "        return True\n",
    "    else:\n",
    "        return False\n",
    " #取出奇數值   \n",
    "list(filter(is_odd,numbers))"
   ]
  },
  {
   "cell_type": "code",
   "execution_count": 11,
   "id": "af074581",
   "metadata": {},
   "outputs": [
    {
     "data": {
      "text/plain": [
       "[1, 3, 5, 7, 9]"
      ]
     },
     "execution_count": 11,
     "metadata": {},
     "output_type": "execute_result"
    }
   ],
   "source": [
    "numbers:list[int] = [1,2,3,4,5,6,7,8,9,10]\n",
    "\n",
    "def is_odd(n):\n",
    "    return n % 2 == 1\n",
    "   \n",
    " #取出奇數值   \n",
    "list(filter(is_odd,numbers))"
   ]
  },
  {
   "cell_type": "code",
   "execution_count": 12,
   "id": "f251d6af",
   "metadata": {},
   "outputs": [
    {
     "data": {
      "text/plain": [
       "[1, 3, 5, 7, 9]"
      ]
     },
     "execution_count": 12,
     "metadata": {},
     "output_type": "execute_result"
    }
   ],
   "source": [
    "numbers:list[int] = [1,2,3,4,5,6,7,8,9,10]\n",
    "\n",
    "def is_odd(n):\n",
    "    return n % 2 == 1\n",
    "   \n",
    " #取出奇數值   \n",
    "list(filter(lambda n:n %2 ==1,numbers))"
   ]
  },
  {
   "cell_type": "code",
   "execution_count": 29,
   "id": "86a5e193",
   "metadata": {},
   "outputs": [
    {
     "name": "stdout",
     "output_type": "stream",
     "text": [
      "國文90分以上的學生有:小華 小麗 "
     ]
    }
   ],
   "source": [
    "students:list[dict] = [\n",
    "    {\"name\": \"小明\", \"chinese\": 85, \"english\": 92, \"math\": 78},\n",
    "    {\"name\": \"小華\", \"chinese\": 90, \"english\": 88, \"math\": 95},\n",
    "    {\"name\": \"小美\", \"chinese\": 79, \"english\": 85, \"math\": 90},\n",
    "    {\"name\": \"小強\", \"chinese\": 88, \"english\": 92, \"math\": 87},\n",
    "    {\"name\": \"小麗\", \"chinese\": 95, \"english\": 89, \"math\": 93}\n",
    "]\n",
    "print(\"國文90分以上的學生有:\",end='')\n",
    "\n",
    "chinese_a_plus = list(filter(lambda n: n[\"chinese\"] >= 90, students))\n",
    "for student in chinese_a_plus:\n",
    "    print(student[\"name\"],end=' ')\n",
    "\n"
   ]
  },
  {
   "cell_type": "code",
   "execution_count": null,
   "id": "6a9310fe",
   "metadata": {},
   "outputs": [],
   "source": [
    " #取出國文90分以上的學生   \n"
   ]
  },
  {
   "cell_type": "code",
   "execution_count": null,
   "id": "f0adc872",
   "metadata": {},
   "outputs": [],
   "source": [
    "chinese_A_plus:list(filter(lambda n:n[\"chinese\"] >=90,students))\n",
    "print('chinese_A_plus')"
   ]
  }
 ],
 "metadata": {
  "kernelspec": {
   "display_name": "base",
   "language": "python",
   "name": "python3"
  },
  "language_info": {
   "codemirror_mode": {
    "name": "ipython",
    "version": 3
   },
   "file_extension": ".py",
   "mimetype": "text/x-python",
   "name": "python",
   "nbconvert_exporter": "python",
   "pygments_lexer": "ipython3",
   "version": "3.12.7"
  }
 },
 "nbformat": 4,
 "nbformat_minor": 5
}
