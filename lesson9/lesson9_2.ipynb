{
 "cells": [
  {
   "cell_type": "code",
   "execution_count": 36,
   "id": "70ab9232",
   "metadata": {},
   "outputs": [],
   "source": [
    "from dataclasses import dataclass\n",
    "\n",
    "@dataclass\n",
    "class Student:\n",
    "    name:str\n",
    "    chinese:int\n",
    "    english:int\n",
    "    math:int\n",
    "\n",
    "    @property\n",
    "    def sum(self):\n",
    "        return self.chinese+self.english+self.math\n",
    "    \n",
    "    def average(self): #實體方法\n",
    "        return round(self.sum / 3.0, ndigits=2)"
   ]
  },
  {
   "cell_type": "code",
   "execution_count": 37,
   "id": "e5e4a44c",
   "metadata": {},
   "outputs": [
    {
     "data": {
      "text/plain": [
       "('Tommy', 66, 90, 78)"
      ]
     },
     "execution_count": 37,
     "metadata": {},
     "output_type": "execute_result"
    }
   ],
   "source": [
    "stu1:Student = Student(name=\"Roger\",chinese=87,english=100,math=2)\n",
    "stu2:Student = Student(name=\"Tommy\",chinese=66,english=90,math=78)\n",
    "stu1.name,stu1.chinese,stu1.english,stu1.math #tuple\n",
    "stu2.name,stu2.chinese,stu2.english,stu2.math"
   ]
  },
  {
   "cell_type": "code",
   "execution_count": 41,
   "id": "c4af1d90",
   "metadata": {},
   "outputs": [
    {
     "name": "stdout",
     "output_type": "stream",
     "text": [
      "('Roger', 100, 100, 2)\n",
      "202\n",
      "67.33\n"
     ]
    }
   ],
   "source": [
    "stu1.chinese = 100 #\n",
    "#stu1.sum = 300 一般的property只可以讀,不可以寫入(readonly)\n",
    "print((stu1.name, stu1.chinese, stu1.english, stu1.math)) \n",
    "print((stu1.sum))#呼叫property\n",
    "print(stu1.average()) #呼叫實體方法\n"
   ]
  }
 ],
 "metadata": {
  "kernelspec": {
   "display_name": "base",
   "language": "python",
   "name": "python3"
  },
  "language_info": {
   "codemirror_mode": {
    "name": "ipython",
    "version": 3
   },
   "file_extension": ".py",
   "mimetype": "text/x-python",
   "name": "python",
   "nbconvert_exporter": "python",
   "pygments_lexer": "ipython3",
   "version": "3.12.7"
  }
 },
 "nbformat": 4,
 "nbformat_minor": 5
}
